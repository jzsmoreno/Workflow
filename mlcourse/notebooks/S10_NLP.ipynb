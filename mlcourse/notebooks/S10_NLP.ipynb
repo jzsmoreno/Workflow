{
 "cells": [
  {
   "cell_type": "markdown",
   "metadata": {
    "id": "bQbU784vWPPD"
   },
   "source": [
    "# NLP (Natural Language Processing)\n",
    "\n",
    "## Introducción: \n",
    "\n",
    "El procesamiento del lenguaje natural (NLP en sus siglas en inglés) es una rama de la inteligencia artificial que combina conocimientos y técnicas de ciencias de la computación y lingüística. \n",
    "\n",
    "El objetivo central de NLP es entender y encontrar los mecanismos más eficaces computacionalmente para la comunicación entre personas y máquinas por medio del lenguaje natural, siendo el lenguaje natural la lengua o idioma hablado o escrito por humanos para propósitos generales de comunicación. \n",
    "\n",
    "Una de las tantas aplicaciones de NLP son problemas de clasificación. A continuación algunos ejemplos: \n",
    "\n",
    "\n",
    "1.   Análisis de sentimientos: Data una oración, clasificar el nivel de gusto o disgusto por el comunicador\n",
    "\n",
    "2.   Clasificador de oraciones: Data una oración, clasificar si es una oración mala o buena, si es spam o no es spam, si tiene contenido terrorista o no lo tiene, etc.\n",
    "\n",
    "En este notebook nos ocuparemos en entender como un algoritmo es capaz de entender un conjunto de oraciones (ósea un texto) y clasificar ese texto en spam o no spam. \n",
    "\n"
   ]
  },
  {
   "cell_type": "code",
   "execution_count": 1,
   "metadata": {
    "id": "1llo52Drn7-h"
   },
   "outputs": [],
   "source": [
    "import numpy as np\n",
    "import pandas as pd\n",
    "import matplotlib.pyplot as plt\n",
    "import tensorflow as tf\n",
    "from tensorflow.keras.preprocessing.text import Tokenizer\n",
    "from tensorflow.keras.preprocessing.sequence import pad_sequences\n",
    "from sklearn.preprocessing import OneHotEncoder"
   ]
  },
  {
   "cell_type": "code",
   "execution_count": 2,
   "metadata": {
    "colab": {
     "base_uri": "https://localhost:8080/",
     "height": 424
    },
    "id": "tlyWdtE51uhB",
    "outputId": "ac3524c0-31be-45a7-e936-9b26af8abb31"
   },
   "outputs": [
    {
     "data": {
      "text/html": [
       "<div>\n",
       "<style scoped>\n",
       "    .dataframe tbody tr th:only-of-type {\n",
       "        vertical-align: middle;\n",
       "    }\n",
       "\n",
       "    .dataframe tbody tr th {\n",
       "        vertical-align: top;\n",
       "    }\n",
       "\n",
       "    .dataframe thead th {\n",
       "        text-align: right;\n",
       "    }\n",
       "</style>\n",
       "<table border=\"1\" class=\"dataframe\">\n",
       "  <thead>\n",
       "    <tr style=\"text-align: right;\">\n",
       "      <th></th>\n",
       "      <th>id</th>\n",
       "      <th>keyword</th>\n",
       "      <th>location</th>\n",
       "      <th>text</th>\n",
       "      <th>target</th>\n",
       "    </tr>\n",
       "  </thead>\n",
       "  <tbody>\n",
       "    <tr>\n",
       "      <th>0</th>\n",
       "      <td>1</td>\n",
       "      <td>NaN</td>\n",
       "      <td>NaN</td>\n",
       "      <td>Our Deeds are the Reason of this #earthquake M...</td>\n",
       "      <td>1</td>\n",
       "    </tr>\n",
       "    <tr>\n",
       "      <th>1</th>\n",
       "      <td>4</td>\n",
       "      <td>NaN</td>\n",
       "      <td>NaN</td>\n",
       "      <td>Forest fire near La Ronge Sask. Canada</td>\n",
       "      <td>1</td>\n",
       "    </tr>\n",
       "    <tr>\n",
       "      <th>2</th>\n",
       "      <td>5</td>\n",
       "      <td>NaN</td>\n",
       "      <td>NaN</td>\n",
       "      <td>All residents asked to 'shelter in place' are ...</td>\n",
       "      <td>1</td>\n",
       "    </tr>\n",
       "    <tr>\n",
       "      <th>3</th>\n",
       "      <td>6</td>\n",
       "      <td>NaN</td>\n",
       "      <td>NaN</td>\n",
       "      <td>13,000 people receive #wildfires evacuation or...</td>\n",
       "      <td>1</td>\n",
       "    </tr>\n",
       "    <tr>\n",
       "      <th>4</th>\n",
       "      <td>7</td>\n",
       "      <td>NaN</td>\n",
       "      <td>NaN</td>\n",
       "      <td>Just got sent this photo from Ruby #Alaska as ...</td>\n",
       "      <td>1</td>\n",
       "    </tr>\n",
       "    <tr>\n",
       "      <th>...</th>\n",
       "      <td>...</td>\n",
       "      <td>...</td>\n",
       "      <td>...</td>\n",
       "      <td>...</td>\n",
       "      <td>...</td>\n",
       "    </tr>\n",
       "    <tr>\n",
       "      <th>7608</th>\n",
       "      <td>10869</td>\n",
       "      <td>NaN</td>\n",
       "      <td>NaN</td>\n",
       "      <td>Two giant cranes holding a bridge collapse int...</td>\n",
       "      <td>1</td>\n",
       "    </tr>\n",
       "    <tr>\n",
       "      <th>7609</th>\n",
       "      <td>10870</td>\n",
       "      <td>NaN</td>\n",
       "      <td>NaN</td>\n",
       "      <td>@aria_ahrary @TheTawniest The out of control w...</td>\n",
       "      <td>1</td>\n",
       "    </tr>\n",
       "    <tr>\n",
       "      <th>7610</th>\n",
       "      <td>10871</td>\n",
       "      <td>NaN</td>\n",
       "      <td>NaN</td>\n",
       "      <td>M1.94 [01:04 UTC]?5km S of Volcano Hawaii. htt...</td>\n",
       "      <td>1</td>\n",
       "    </tr>\n",
       "    <tr>\n",
       "      <th>7611</th>\n",
       "      <td>10872</td>\n",
       "      <td>NaN</td>\n",
       "      <td>NaN</td>\n",
       "      <td>Police investigating after an e-bike collided ...</td>\n",
       "      <td>1</td>\n",
       "    </tr>\n",
       "    <tr>\n",
       "      <th>7612</th>\n",
       "      <td>10873</td>\n",
       "      <td>NaN</td>\n",
       "      <td>NaN</td>\n",
       "      <td>The Latest: More Homes Razed by Northern Calif...</td>\n",
       "      <td>1</td>\n",
       "    </tr>\n",
       "  </tbody>\n",
       "</table>\n",
       "<p>7613 rows × 5 columns</p>\n",
       "</div>"
      ],
      "text/plain": [
       "         id keyword  ...                                               text target\n",
       "0         1     NaN  ...  Our Deeds are the Reason of this #earthquake M...      1\n",
       "1         4     NaN  ...             Forest fire near La Ronge Sask. Canada      1\n",
       "2         5     NaN  ...  All residents asked to 'shelter in place' are ...      1\n",
       "3         6     NaN  ...  13,000 people receive #wildfires evacuation or...      1\n",
       "4         7     NaN  ...  Just got sent this photo from Ruby #Alaska as ...      1\n",
       "...     ...     ...  ...                                                ...    ...\n",
       "7608  10869     NaN  ...  Two giant cranes holding a bridge collapse int...      1\n",
       "7609  10870     NaN  ...  @aria_ahrary @TheTawniest The out of control w...      1\n",
       "7610  10871     NaN  ...  M1.94 [01:04 UTC]?5km S of Volcano Hawaii. htt...      1\n",
       "7611  10872     NaN  ...  Police investigating after an e-bike collided ...      1\n",
       "7612  10873     NaN  ...  The Latest: More Homes Razed by Northern Calif...      1\n",
       "\n",
       "[7613 rows x 5 columns]"
      ]
     },
     "execution_count": 2,
     "metadata": {
      "tags": []
     },
     "output_type": "execute_result"
    }
   ],
   "source": [
    "# Cargamos el conjunto de entrenamiento\n",
    "dataset = pd.read_csv(\"train.csv\")\n",
    "plt.rcParams[\"font.size\"] = 24\n",
    "plt.style.use(\"seaborn-poster\")\n",
    "dataset"
   ]
  },
  {
   "cell_type": "markdown",
   "metadata": {
    "id": "zQPZt6Zobw8S"
   },
   "source": [
    "### Representación de palabras (Word Representation)\n",
    "\n",
    "El lenguaje de las computadoras es el lenguaje binario, donde mediante combinaciones de unos y ceros, cualquier frase estructurada se puede codificar mediante vectores de unos y ceros. \n",
    "\n",
    "Consideremos el siguiente ejemplo:\n",
    "\n",
    "<center>\n",
    "    <img src=\"https://miro.medium.com/max/1348/1*9ZuDXoc2ek-GfHE2esty5A.png\" width = \"50%\">\n",
    "</center>\n",
    "\n",
    " A cada palabra le corresponde un vector $n$-dimensional distinto a cualquier otro vector de otra palabra. Este tipo de vectores se llaman One-Hot. Con base en esto, uno puede definir un diccionario en un idioma. El tamaño del diccionario depende de la aplicación que se requiera. \n",
    "\n",
    " <center>\n",
    "    <img border = \"0\" aling = \"right\" src=\"https://mk0caiblog1h3pefaf7c.kinstacdn.com/wp-content/uploads/2019/02/bag-of-words.png\" width = \"25%\">\n",
    "</center>\n",
    "\n",
    "\n",
    "\n"
   ]
  },
  {
   "cell_type": "code",
   "execution_count": 3,
   "metadata": {
    "id": "Bq-hgCsZ-s-N"
   },
   "outputs": [],
   "source": [
    "# Definimos el problema de clasificacion\n",
    "# 0 : El tuit no es un spam\n",
    "# 1 : El tuit es un spam\n",
    "\n",
    "int_label = {1: \"real\", 0: \"fake\"}"
   ]
  },
  {
   "cell_type": "code",
   "execution_count": 4,
   "metadata": {
    "id": "BIquIOtX2AbU"
   },
   "outputs": [],
   "source": [
    "# Separamos el Texto y la etiqueta\n",
    "sentences = dataset[\"text\"].tolist()\n",
    "labels = dataset[\"target\"].tolist()"
   ]
  },
  {
   "cell_type": "code",
   "execution_count": 5,
   "metadata": {
    "id": "V8HVqg7o4GI2"
   },
   "outputs": [],
   "source": [
    "# Funcion que encuentra la frase de longitud máxima\n",
    "def max_sequence(array):\n",
    "    max_temp = len(array[0])\n",
    "    for i in range(len(array) - 1):\n",
    "        if len(array[i + 1]) > max_temp:\n",
    "            max_temp = len(array[i + 1])\n",
    "    return max_temp"
   ]
  },
  {
   "cell_type": "code",
   "execution_count": 6,
   "metadata": {
    "id": "fCKr46bW2gXL"
   },
   "outputs": [],
   "source": [
    "# Separación del conjunto de datos en datos de entrenamiento y prueba\n",
    "training_size = int(len(sentences) * 0.99)\n",
    "\n",
    "training_sentences = sentences[0:training_size]\n",
    "testing_sentences = sentences[training_size:]\n",
    "training_labels = labels[0:training_size]\n",
    "testing_labels = labels[training_size:]"
   ]
  },
  {
   "cell_type": "code",
   "execution_count": 7,
   "metadata": {
    "id": "iKuL4mQP2xHV"
   },
   "outputs": [],
   "source": [
    "# Conversion de las etiquetas en arreglos numpy\n",
    "training_labels_final = np.array(training_labels)\n",
    "testing_labels_final = np.array(testing_labels)"
   ]
  },
  {
   "cell_type": "code",
   "execution_count": 8,
   "metadata": {
    "colab": {
     "base_uri": "https://localhost:8080/"
    },
    "id": "QRdQ_LOq5fvr",
    "outputId": "943aa161-f701-461f-fceb-299478038bf6"
   },
   "outputs": [
    {
     "data": {
      "text/plain": [
       "(77,)"
      ]
     },
     "execution_count": 8,
     "metadata": {
      "tags": []
     },
     "output_type": "execute_result"
    }
   ],
   "source": [
    "testing_labels_final.shape"
   ]
  },
  {
   "cell_type": "markdown",
   "metadata": {
    "id": "iJSD-yw8lRn0"
   },
   "source": [
    "### Incrustaciones de Palabras (Word Embeddings)\n",
    "\n",
    "Cuando codificamos las palabras en vecores one-hot padecemos de la dificultad de que los vectores definidos de ese manera no almacenan información de la palabra ni del contexto. Por ejemplo no hay similitud entre la palabra Rome y Paris:\n",
    "\n",
    "Definimos por ejemplo $Rome = x_{1}$ ; $Paris = x_{2}$ la distancia entre ambos vectores $d = \\sqrt{(x_{1} - x_{2})^2} = 2$ y esto ocurre para cualquier palabra del diccionario.\n",
    "\n",
    "En términos generales word embedding son técnicas que permiten transformar los vectores one-hot de nuestro vocabulario en vectores más compactos y que contengan información que permitan relacionar conceptos entre palabras. Veamos el siguiente ejemplo:\n",
    "\n",
    "\n",
    "<center>\n",
    "    <img src=\"https://miro.medium.com/max/2598/1*sAJdxEsDjsPMioHyzlN3_A.png\" width=\"75%\">\n",
    "</center>\n",
    "\n",
    "\n",
    "En este caso, la distancia entre dos vectores embebidos ya no sería 2, ahora podemos tener similitud entre palabras. "
   ]
  },
  {
   "cell_type": "code",
   "execution_count": 9,
   "metadata": {
    "colab": {
     "base_uri": "https://localhost:8080/"
    },
    "id": "qX12lRRu2z2Q",
    "outputId": "7511d137-38f3-446f-9133-5e26db13ad1c"
   },
   "outputs": [
    {
     "name": "stdout",
     "output_type": "stream",
     "text": [
      "max_length : 33\n"
     ]
    }
   ],
   "source": [
    "vocab_size = 1000\n",
    "embedding_dim = 16\n",
    "max_length = 33\n",
    "trunc_type = \"post\"\n",
    "padding_type = \"post\"\n",
    "oov_tok = \"<OOV>\"\n",
    "\n",
    "print(\"max_length :\", max_length)\n",
    "\n",
    "tokenizer = Tokenizer(num_words=vocab_size, oov_token=oov_tok)\n",
    "tokenizer.fit_on_texts(training_sentences)\n",
    "word_index = tokenizer.word_index"
   ]
  },
  {
   "cell_type": "code",
   "execution_count": 10,
   "metadata": {
    "id": "IBtXbO1E3T03"
   },
   "outputs": [],
   "source": [
    "sequences = tokenizer.texts_to_sequences(training_sentences)"
   ]
  },
  {
   "cell_type": "code",
   "execution_count": 11,
   "metadata": {
    "id": "0paq7bKQ3W93"
   },
   "outputs": [],
   "source": [
    "padded = pad_sequences(sequences, maxlen=max_length, padding=padding_type, truncating=trunc_type)\n",
    "testing_sequences = tokenizer.texts_to_sequences(testing_sentences)\n",
    "testing_padded = pad_sequences(\n",
    "    testing_sequences, maxlen=max_length, padding=padding_type, truncating=trunc_type\n",
    ")"
   ]
  },
  {
   "cell_type": "code",
   "execution_count": 12,
   "metadata": {
    "colab": {
     "base_uri": "https://localhost:8080/"
    },
    "id": "Udve1S7I8t0a",
    "outputId": "ea7c078a-c7d5-4e7e-c784-54cccabdc348"
   },
   "outputs": [
    {
     "data": {
      "text/plain": [
       "(7536, 33)"
      ]
     },
     "execution_count": 12,
     "metadata": {
      "tags": []
     },
     "output_type": "execute_result"
    }
   ],
   "source": [
    "padded.shape"
   ]
  },
  {
   "cell_type": "markdown",
   "metadata": {
    "id": "ZO1PRZBqrJv2"
   },
   "source": [
    "* Existen varias técnicas de Word Embedding, algunas son las siguientes: \n",
    "\n",
    "1.   Bag of words(BOW)\n",
    "2.   Word2Vec \n",
    "3.   Skip gram\n",
    "\n",
    "\n",
    "La idea en común de estas técnicas es que utilizan una red neuronal como las que hemos estudiado para aprender los vectores embebidos con base en un contexto. \n",
    "\n",
    "Por ejemplo: \n",
    "\n",
    "<center>\n",
    "    <img src=\"https://blog.baamtu.com/wp-content/uploads/2020/01/Word-embedding-model-1.png\" width = \"95%\">\n",
    "</center>\n"
   ]
  },
  {
   "cell_type": "code",
   "execution_count": 13,
   "metadata": {
    "colab": {
     "base_uri": "https://localhost:8080/"
    },
    "id": "ICqwUNuY4lHL",
    "outputId": "e63e053a-b2e4-4c17-be5d-00bf0a032a25"
   },
   "outputs": [
    {
     "name": "stdout",
     "output_type": "stream",
     "text": [
      "Model: \"sequential\"\n",
      "_________________________________________________________________\n",
      "Layer (type)                 Output Shape              Param #   \n",
      "=================================================================\n",
      "embedding (Embedding)        (None, 33, 16)            16000     \n",
      "_________________________________________________________________\n",
      "flatten (Flatten)            (None, 528)               0         \n",
      "_________________________________________________________________\n",
      "dense (Dense)                (None, 6)                 3174      \n",
      "_________________________________________________________________\n",
      "dense_1 (Dense)              (None, 1)                 7         \n",
      "=================================================================\n",
      "Total params: 19,181\n",
      "Trainable params: 19,181\n",
      "Non-trainable params: 0\n",
      "_________________________________________________________________\n"
     ]
    }
   ],
   "source": [
    "model = tf.keras.Sequential(\n",
    "    [\n",
    "        tf.keras.layers.Embedding(vocab_size, embedding_dim, input_length=max_length),\n",
    "        tf.keras.layers.Flatten(),\n",
    "        tf.keras.layers.Dense(6, activation=\"relu\"),\n",
    "        tf.keras.layers.Dense(1, activation=\"sigmoid\"),\n",
    "    ]\n",
    ")\n",
    "model.compile(loss=\"binary_crossentropy\", optimizer=\"adam\", metrics=[\"accuracy\"])\n",
    "model.summary()"
   ]
  },
  {
   "cell_type": "code",
   "execution_count": 14,
   "metadata": {
    "id": "_jZDRbVz4qbz"
   },
   "outputs": [],
   "source": [
    "num_epochs = 5\n",
    "history = model.fit(\n",
    "    padded,\n",
    "    training_labels_final,\n",
    "    epochs=num_epochs,\n",
    "    validation_data=(testing_padded, testing_labels_final),\n",
    "    verbose=0,\n",
    ")"
   ]
  },
  {
   "cell_type": "code",
   "execution_count": 15,
   "metadata": {
    "colab": {
     "base_uri": "https://localhost:8080/",
     "height": 206
    },
    "id": "GswsqiXk6vc_",
    "outputId": "38173150-355c-4c08-a79d-868f23717db9"
   },
   "outputs": [
    {
     "data": {
      "text/html": [
       "<div>\n",
       "<style scoped>\n",
       "    .dataframe tbody tr th:only-of-type {\n",
       "        vertical-align: middle;\n",
       "    }\n",
       "\n",
       "    .dataframe tbody tr th {\n",
       "        vertical-align: top;\n",
       "    }\n",
       "\n",
       "    .dataframe thead th {\n",
       "        text-align: right;\n",
       "    }\n",
       "</style>\n",
       "<table border=\"1\" class=\"dataframe\">\n",
       "  <thead>\n",
       "    <tr style=\"text-align: right;\">\n",
       "      <th></th>\n",
       "      <th>loss</th>\n",
       "      <th>accuracy</th>\n",
       "      <th>val_loss</th>\n",
       "      <th>val_accuracy</th>\n",
       "      <th>epoch</th>\n",
       "    </tr>\n",
       "  </thead>\n",
       "  <tbody>\n",
       "    <tr>\n",
       "      <th>0</th>\n",
       "      <td>0.629437</td>\n",
       "      <td>0.657245</td>\n",
       "      <td>0.427898</td>\n",
       "      <td>0.831169</td>\n",
       "      <td>0</td>\n",
       "    </tr>\n",
       "    <tr>\n",
       "      <th>1</th>\n",
       "      <td>0.460864</td>\n",
       "      <td>0.789544</td>\n",
       "      <td>0.288387</td>\n",
       "      <td>0.857143</td>\n",
       "      <td>1</td>\n",
       "    </tr>\n",
       "    <tr>\n",
       "      <th>2</th>\n",
       "      <td>0.390268</td>\n",
       "      <td>0.834262</td>\n",
       "      <td>0.229284</td>\n",
       "      <td>0.922078</td>\n",
       "      <td>2</td>\n",
       "    </tr>\n",
       "    <tr>\n",
       "      <th>3</th>\n",
       "      <td>0.345723</td>\n",
       "      <td>0.854034</td>\n",
       "      <td>0.196650</td>\n",
       "      <td>0.922078</td>\n",
       "      <td>3</td>\n",
       "    </tr>\n",
       "    <tr>\n",
       "      <th>4</th>\n",
       "      <td>0.301525</td>\n",
       "      <td>0.881768</td>\n",
       "      <td>0.184484</td>\n",
       "      <td>0.922078</td>\n",
       "      <td>4</td>\n",
       "    </tr>\n",
       "  </tbody>\n",
       "</table>\n",
       "</div>"
      ],
      "text/plain": [
       "       loss  accuracy  val_loss  val_accuracy  epoch\n",
       "0  0.629437  0.657245  0.427898      0.831169      0\n",
       "1  0.460864  0.789544  0.288387      0.857143      1\n",
       "2  0.390268  0.834262  0.229284      0.922078      2\n",
       "3  0.345723  0.854034  0.196650      0.922078      3\n",
       "4  0.301525  0.881768  0.184484      0.922078      4"
      ]
     },
     "execution_count": 15,
     "metadata": {
      "tags": []
     },
     "output_type": "execute_result"
    }
   ],
   "source": [
    "hist = pd.DataFrame(history.history)\n",
    "hist[\"epoch\"] = history.epoch\n",
    "hist.tail()"
   ]
  },
  {
   "cell_type": "code",
   "execution_count": 16,
   "metadata": {
    "colab": {
     "base_uri": "https://localhost:8080/",
     "height": 561
    },
    "id": "smuLinWt6oxC",
    "outputId": "b578da75-986e-4a00-9ff9-43f2631c3d8a"
   },
   "outputs": [
    {
     "data": {
      "image/png": "[encoded data removed]",
      "text/plain": [
       "<Figure size 921.6x633.6 with 1 Axes>"
      ]
     },
     "metadata": {
      "needs_background": "light",
      "tags": []
     },
     "output_type": "display_data"
    }
   ],
   "source": [
    "def plot_history(history):\n",
    "    hist = pd.DataFrame(history.history)\n",
    "    hist[\"epoch\"] = history.epoch\n",
    "\n",
    "    plt.figure()\n",
    "    plt.xlabel(\"Epoch\")\n",
    "    plt.ylabel(\"loss\")\n",
    "    plt.plot(hist[\"epoch\"], hist[\"loss\"], label=\"Train Error\")\n",
    "    plt.plot(hist[\"epoch\"], hist[\"val_loss\"], label=\"Validation Error\")\n",
    "    plt.legend()\n",
    "    plt.show()\n",
    "\n",
    "\n",
    "plot_history(history)"
   ]
  },
  {
   "cell_type": "code",
   "execution_count": 17,
   "metadata": {
    "id": "UgEflRsP70es"
   },
   "outputs": [],
   "source": [
    "data = pd.read_csv(\"test.csv\")\n",
    "\n",
    "sentences_ = data[\"text\"].tolist()\n",
    "id_value = data[\"id\"].tolist()\n",
    "\n",
    "id_value = np.array(id_value)\n",
    "\n",
    "sequences_ = tokenizer.texts_to_sequences(sentences_)\n",
    "padded_ = pad_sequences(sequences_, maxlen=max_length, padding=padding_type, truncating=trunc_type)"
   ]
  },
  {
   "cell_type": "code",
   "execution_count": 18,
   "metadata": {
    "id": "PlaAd4Fx6pc5"
   },
   "outputs": [],
   "source": [
    "pred = model.predict(padded_)\n",
    "# 0.77505"
   ]
  },
  {
   "cell_type": "code",
   "execution_count": 19,
   "metadata": {
    "colab": {
     "base_uri": "https://localhost:8080/"
    },
    "id": "DLSKBCw98Qur",
    "outputId": "40325f9a-abae-497b-c9f6-92ba5e3a20e6"
   },
   "outputs": [
    {
     "data": {
      "text/plain": [
       "(3263, 1)"
      ]
     },
     "execution_count": 19,
     "metadata": {
      "tags": []
     },
     "output_type": "execute_result"
    }
   ],
   "source": [
    "pred.shape"
   ]
  },
  {
   "cell_type": "code",
   "execution_count": 20,
   "metadata": {
    "colab": {
     "base_uri": "https://localhost:8080/"
    },
    "id": "ZFKvB41c8VRN",
    "outputId": "0535d128-feb1-4bf6-d03d-51a8dfbb67f0"
   },
   "outputs": [
    {
     "name": "stdout",
     "output_type": "stream",
     "text": [
      "[0.8204247]\n"
     ]
    }
   ],
   "source": [
    "print(pred[0])"
   ]
  },
  {
   "cell_type": "code",
   "execution_count": 21,
   "metadata": {
    "id": "rLXE6WCR8dDK"
   },
   "outputs": [],
   "source": [
    "vals = []\n",
    "for i in range(len(pred[:])):\n",
    "    if pred[i] > 0.5:\n",
    "        vals.append(int_label[1])\n",
    "    else:\n",
    "        vals.append(int_label[0])"
   ]
  },
  {
   "cell_type": "code",
   "execution_count": 22,
   "metadata": {
    "id": "rasNyzkW-j0v"
   },
   "outputs": [],
   "source": [
    "f = open(\"test.txt\", \"w\")\n",
    "for i in range(len(vals)):\n",
    "    if vals[i] != \"real\":\n",
    "        f.write(np.str(id_value[i]) + \"\\t\" + np.str(0) + \"\\n\")\n",
    "    else:\n",
    "        f.write(np.str(id_value[i]) + \"\\t\" + np.str(1) + \"\\n\")\n",
    "f.close()"
   ]
  },
  {
   "cell_type": "code",
   "execution_count": 23,
   "metadata": {
    "id": "UwOuVHAJHYN9"
   },
   "outputs": [],
   "source": [
    "onehot_encoder = OneHotEncoder(sparse=False)\n",
    "integer_encoded = training_labels_final.reshape(len(training_labels_final), 1)\n",
    "y_training = onehot_encoder.fit_transform(integer_encoded)\n",
    "integer_encoded = testing_labels_final.reshape(len(testing_labels_final), 1)\n",
    "y_testing = onehot_encoder.fit_transform(integer_encoded)"
   ]
  },
  {
   "cell_type": "code",
   "execution_count": 24,
   "metadata": {
    "id": "Az-eoysVLcsg"
   },
   "outputs": [],
   "source": [
    "padded = padded.reshape((-1, max_length, 1))\n",
    "testing_padded = testing_padded.reshape((-1, max_length, 1))"
   ]
  },
  {
   "cell_type": "markdown",
   "metadata": {
    "id": "2P3qBur8s-VX"
   },
   "source": [
    "## Red neuronal para la clasificación\n",
    "\n",
    "La arquitectura es la siguiente:\n",
    "\n",
    "<center>\n",
    "    <img border = \"0\" align = \"right\" src=\"https://www.thepythoncode.com/media/articles/build-spam-classifier-keras-python/network_diagram_jMVQhJh.png\" width=\"25%\">\n",
    "</center>\n",
    "\n",
    "Hasta ahora hemos hablado como podemos formar un diccionario a partir de palabras, representar las palabras mediante un vector one-hot y transformar los vectores one-hot en vectores embebidos. \n",
    "\n",
    "Se pueden seguir varias estrategias para clasificar texto, la que ha tenido más éxito son las redes neuronales recurrentes. Una red neuronal recurrente es una red neuronal como la que hemos visto, pero con la diferencia que integra bucles de retro-alimentación, esto permite que la información fluya en el \"tiempo\". Las redes neuronales recurrentes son muy útiles cuando nuestros datos son datos sequenciales (texto, comúnmente variables que dependen del tiempo).\n",
    "\n",
    "Existen 3 variedades de redes recurrentes\n",
    "\n",
    "1.   RNN -> Recurrent Neuronal Network\n",
    "2.   GRU -> Gated Recurrent Unit\n",
    "3.   LSTM -> Long short-term Memory\n",
    "\n"
   ]
  },
  {
   "cell_type": "code",
   "execution_count": 25,
   "metadata": {
    "colab": {
     "base_uri": "https://localhost:8080/"
    },
    "id": "49Ifi5TTGzWP",
    "outputId": "4e180d15-069d-43a7-9c85-3f9163b42ed9"
   },
   "outputs": [
    {
     "name": "stdout",
     "output_type": "stream",
     "text": [
      "Model: \"sequential_1\"\n",
      "_________________________________________________________________\n",
      "Layer (type)                 Output Shape              Param #   \n",
      "=================================================================\n",
      "gru (GRU)                    (None, None, 32)          3360      \n",
      "_________________________________________________________________\n",
      "batch_normalization (BatchNo (None, None, 32)          128       \n",
      "_________________________________________________________________\n",
      "dropout (Dropout)            (None, None, 32)          0         \n",
      "_________________________________________________________________\n",
      "gru_1 (GRU)                  (None, 32)                6336      \n",
      "_________________________________________________________________\n",
      "dropout_1 (Dropout)          (None, 32)                0         \n",
      "_________________________________________________________________\n",
      "dense_2 (Dense)              (None, 32)                1056      \n",
      "_________________________________________________________________\n",
      "dense_3 (Dense)              (None, 2)                 66        \n",
      "=================================================================\n",
      "Total params: 10,946\n",
      "Trainable params: 10,882\n",
      "Non-trainable params: 64\n",
      "_________________________________________________________________\n"
     ]
    }
   ],
   "source": [
    "# In this section we define our neural network model to train\n",
    "def get_model(max_length, units, lstm_units):\n",
    "    model = tf.keras.Sequential()\n",
    "    model.add(\n",
    "        tf.keras.layers.GRU(\n",
    "            lstm_units,\n",
    "            input_shape=[None, 1],\n",
    "            return_state=False,\n",
    "            kernel_initializer=\"glorot_normal\",\n",
    "            return_sequences=True,\n",
    "        )\n",
    "    )\n",
    "    model.add(tf.keras.layers.BatchNormalization())\n",
    "    model.add(tf.keras.layers.Dropout(rate=0.3))\n",
    "    model.add(tf.keras.layers.GRU(units, return_sequences=False))\n",
    "    model.add(tf.keras.layers.Dropout(rate=0.5))\n",
    "    model.add(tf.keras.layers.Dense(units))\n",
    "    model.add(tf.keras.layers.Dense(2, activation=\"softmax\"))\n",
    "    model.compile(optimizer=\"adam\", loss=\"binary_crossentropy\", metrics=[\"accuracy\"])\n",
    "    model.summary()\n",
    "    return model\n",
    "\n",
    "\n",
    "lstm_units = 32\n",
    "units = 32\n",
    "model = get_model(max_length, units, lstm_units)"
   ]
  },
  {
   "cell_type": "code",
   "execution_count": 26,
   "metadata": {
    "colab": {
     "base_uri": "https://localhost:8080/",
     "height": 206
    },
    "id": "UwpUY1pcHhgG",
    "outputId": "2529b7c4-b2b2-4b70-d824-c8e6dd6eeda2"
   },
   "outputs": [
    {
     "data": {
      "text/html": [
       "<div>\n",
       "<style scoped>\n",
       "    .dataframe tbody tr th:only-of-type {\n",
       "        vertical-align: middle;\n",
       "    }\n",
       "\n",
       "    .dataframe tbody tr th {\n",
       "        vertical-align: top;\n",
       "    }\n",
       "\n",
       "    .dataframe thead th {\n",
       "        text-align: right;\n",
       "    }\n",
       "</style>\n",
       "<table border=\"1\" class=\"dataframe\">\n",
       "  <thead>\n",
       "    <tr style=\"text-align: right;\">\n",
       "      <th></th>\n",
       "      <th>loss</th>\n",
       "      <th>accuracy</th>\n",
       "      <th>val_loss</th>\n",
       "      <th>val_accuracy</th>\n",
       "      <th>epoch</th>\n",
       "    </tr>\n",
       "  </thead>\n",
       "  <tbody>\n",
       "    <tr>\n",
       "      <th>20</th>\n",
       "      <td>0.603280</td>\n",
       "      <td>0.680865</td>\n",
       "      <td>0.555348</td>\n",
       "      <td>0.727273</td>\n",
       "      <td>20</td>\n",
       "    </tr>\n",
       "    <tr>\n",
       "      <th>21</th>\n",
       "      <td>0.607397</td>\n",
       "      <td>0.680865</td>\n",
       "      <td>0.541318</td>\n",
       "      <td>0.727273</td>\n",
       "      <td>21</td>\n",
       "    </tr>\n",
       "    <tr>\n",
       "      <th>22</th>\n",
       "      <td>0.606693</td>\n",
       "      <td>0.680998</td>\n",
       "      <td>0.552685</td>\n",
       "      <td>0.701299</td>\n",
       "      <td>22</td>\n",
       "    </tr>\n",
       "    <tr>\n",
       "      <th>23</th>\n",
       "      <td>0.601675</td>\n",
       "      <td>0.683386</td>\n",
       "      <td>0.588655</td>\n",
       "      <td>0.701299</td>\n",
       "      <td>23</td>\n",
       "    </tr>\n",
       "    <tr>\n",
       "      <th>24</th>\n",
       "      <td>0.601864</td>\n",
       "      <td>0.683519</td>\n",
       "      <td>0.544703</td>\n",
       "      <td>0.688312</td>\n",
       "      <td>24</td>\n",
       "    </tr>\n",
       "  </tbody>\n",
       "</table>\n",
       "</div>"
      ],
      "text/plain": [
       "        loss  accuracy  val_loss  val_accuracy  epoch\n",
       "20  0.603280  0.680865  0.555348      0.727273     20\n",
       "21  0.607397  0.680865  0.541318      0.727273     21\n",
       "22  0.606693  0.680998  0.552685      0.701299     22\n",
       "23  0.601675  0.683386  0.588655      0.701299     23\n",
       "24  0.601864  0.683519  0.544703      0.688312     24"
      ]
     },
     "execution_count": 26,
     "metadata": {
      "tags": []
     },
     "output_type": "execute_result"
    }
   ],
   "source": [
    "num_epochs = 25\n",
    "\n",
    "history = model.fit(\n",
    "    padded, y_training, epochs=num_epochs, validation_data=(testing_padded, y_testing), verbose=0\n",
    ")\n",
    "\n",
    "hist = pd.DataFrame(history.history)\n",
    "hist[\"epoch\"] = history.epoch\n",
    "hist.tail()"
   ]
  },
  {
   "cell_type": "code",
   "execution_count": 27,
   "metadata": {
    "colab": {
     "base_uri": "https://localhost:8080/",
     "height": 561
    },
    "id": "r98g8ljHLWrc",
    "outputId": "324baebe-9b75-4edc-aef3-5057674aa885"
   },
   "outputs": [
    {
     "data": {
      "image/png": "[encoded data removed]",
      "text/plain": [
       "<Figure size 921.6x633.6 with 1 Axes>"
      ]
     },
     "metadata": {
      "needs_background": "light",
      "tags": []
     },
     "output_type": "display_data"
    }
   ],
   "source": [
    "def plot_history(history):\n",
    "    hist = pd.DataFrame(history.history)\n",
    "    hist[\"epoch\"] = history.epoch\n",
    "\n",
    "    plt.figure()\n",
    "    plt.xlabel(\"Epoch\")\n",
    "    plt.ylabel(\"loss\")\n",
    "    plt.plot(hist[\"epoch\"], hist[\"loss\"], label=\"Train Error\")\n",
    "    plt.plot(hist[\"epoch\"], hist[\"val_loss\"], label=\"Validation Error\")\n",
    "    plt.legend()\n",
    "    plt.show()\n",
    "\n",
    "\n",
    "plot_history(history)"
   ]
  }
 ],
 "metadata": {
  "colab": {
   "collapsed_sections": [],
   "name": "S10-NLP.ipynb",
   "provenance": []
  },
  "kernelspec": {
   "display_name": "Python 3",
   "name": "python3"
  }
 },
 "nbformat": 4,
 "nbformat_minor": 0
}
